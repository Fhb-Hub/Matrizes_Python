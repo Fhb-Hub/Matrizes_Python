{
  "nbformat": 4,
  "nbformat_minor": 0,
  "metadata": {
    "colab": {
      "name": "Lista La Place.ipynb",
      "provenance": [],
      "authorship_tag": "ABX9TyNz27B9mESLHGlXXfBSZ/bf",
      "include_colab_link": true
    },
    "kernelspec": {
      "name": "python3",
      "display_name": "Python 3"
    },
    "language_info": {
      "name": "python"
    }
  },
  "cells": [
    {
      "cell_type": "markdown",
      "metadata": {
        "id": "view-in-github",
        "colab_type": "text"
      },
      "source": [
        "<a href=\"https://colab.research.google.com/github/vanessa-held/Python-matrizes/blob/master/Lista_La_Place.ipynb\" target=\"_parent\"><img src=\"https://colab.research.google.com/assets/colab-badge.svg\" alt=\"Open In Colab\"/></a>"
      ]
    },
    {
      "cell_type": "code",
      "metadata": {
        "id": "L0Xz2TINTthu"
      },
      "source": [
        "def informar_matriz():\n",
        "    m = int (input (\"Digite a quantidade de itens das linhas:\")) \n",
        "    n = int (input (\"Digite a quantidade de itens das colunas\"))    \n",
        "    matriz=[]\n",
        "    for i in range (m): #varrendo os itens da linha \n",
        "        matriz.append([0]*n) #cria a linha corrente mais as colunas\n",
        "        for j in range (n): #varrendo as colunas\n",
        "            matriz[i][j] = int (input (f\"Digite o valor do elemento {i+1},{j+1}: \")) #pedindo as valores da matriz e atribuindo na posição correta\n",
        "    return matriz "
      ],
      "execution_count": 22,
      "outputs": []
    },
    {
      "cell_type": "code",
      "metadata": {
        "id": "j5UxcvmecAQr"
      },
      "source": [
        "def verifica_matriz(matriz):\n",
        "    tam_linha = len(matriz) \n",
        "    for linha in range (tam_linha):\n",
        "        tam_col = len(matriz[linha])\n",
        "        if tam_linha != tam_col: \n",
        "            return False # se coluna diferente de linhas retorna falso\n",
        "    return True\n",
        "\n"
      ],
      "execution_count": 23,
      "outputs": []
    },
    {
      "cell_type": "code",
      "metadata": {
        "id": "LPISbjaZcGdz"
      },
      "source": [
        "def imprimir_determinante(matriz):\n",
        "    matriz_quadrada = verifica_matriz(matriz)\n",
        "    if matriz_quadrada == True:\n",
        "        det = det_matriz (matriz)\n",
        "        print(f\"Velor da determinante é: {det}\") \n",
        "    else: \n",
        "        print(\"Matriz não é quadrada!\")"
      ],
      "execution_count": 24,
      "outputs": []
    },
    {
      "cell_type": "code",
      "metadata": {
        "id": "ZMbtOUhDcO3y"
      },
      "source": [
        "def co_fator(matriz,linha,col):\n",
        "    item = matriz[linha][col] # pegando os elementos da coluna 0\n",
        "    cofator = 0\n",
        "    if item != 0:  #se o item igual a zero não realiza o calculo\n",
        "        mult = (-1)**(linha+col) # potencia do co-fator\n",
        "        cofator = mult * item * det_matriz(cria_matriz_cofator(matriz, linha, col)) # calculo recursivo do co-fator\n",
        "    return cofator"
      ],
      "execution_count": 25,
      "outputs": []
    },
    {
      "cell_type": "code",
      "metadata": {
        "id": "yXrKNNAIdab1"
      },
      "source": [
        "def cria_matriz_cofator(matriz, linha, col):\n",
        "    tam = len(matriz) # lendo as quantidades de linha na matriz \n",
        "    tam_nova = tam -1 \n",
        "    matriz_nova = []\n",
        "    l_nova = 0\n",
        "    for l in range(tam): \n",
        "        if l != linha: # não consedera a linha aonde está o pivo\n",
        "            matriz_nova.append([0]*tam_nova)\n",
        "            c_nova = 0\n",
        "            for c in range(tam):\n",
        "                if c != col: # não considera a coluna aonde está o pivo\n",
        "                    matriz_nova[l_nova][c_nova] = matriz[l][c] \n",
        "                    c_nova += 1\n",
        "            l_nova += 1\n",
        "\n",
        "    return matriz_nova"
      ],
      "execution_count": 26,
      "outputs": []
    },
    {
      "cell_type": "code",
      "metadata": {
        "id": "4-RWkpFjcPqw"
      },
      "source": [
        "def det_matriz(matriz):\n",
        "    tam = len(matriz)\n",
        "\n",
        "    # condição de parada da recursão\n",
        "    if tam == 1:\n",
        "        return matriz[0][0]\n",
        "    \n",
        "    #inicio do calculo\n",
        "    col = 0 # fixando coluna em 0\n",
        "    soma = 0 \n",
        "    for linha in range(tam): \n",
        "       soma += co_fator(matriz,linha,col) # calculo recursivo do co-fator\n",
        "\n",
        "    return soma"
      ],
      "execution_count": 27,
      "outputs": []
    },
    {
      "cell_type": "code",
      "metadata": {
        "colab": {
          "base_uri": "https://localhost:8080/"
        },
        "id": "tpJ4-jsHcqRV",
        "outputId": "5fd18c11-317f-4a8d-a96e-4a88852d05fe"
      },
      "source": [
        "if __name__ == '__main__':\n",
        "    \n",
        "    #Questão A: informar matriz desejada.\n",
        "    matriz = informar_matriz()\n",
        "    print(f\"matriz informada:\\n {matriz}\")\n",
        "\n",
        "    #Questão B: Contenha uma função que faça uma verificação se com as matrizes digitadas é possível calcular os determinantes dessas matrizes;\n",
        "    print(\"a função que determina o cofator é a função: verifica_matriz\")\n",
        "\n",
        "    #Questão C: Calcule o Co-fator dos elementos\n",
        "    print(\"a função que determina o cofator é a função: co_fator\")\n",
        "\n",
        "    #Questão D: Contenha uma função que calcule os determinantes de matrizes de qualquer ordem;\n",
        "    print(\"a função que determina o cofator é a função: det_matriz\")\n",
        "\n",
        "    #Questão E: Verificação de calculo da matriz.\n",
        "    imprimir_determinante(matriz)"
      ],
      "execution_count": 28,
      "outputs": [
        {
          "output_type": "stream",
          "text": [
            "Digite a quantidade de itens das linhas:2\n",
            "Digite a quantidade de itens das colunas2\n",
            "Digite o valor do elemento 1,1: 1\n",
            "Digite o valor do elemento 1,2: 2\n",
            "Digite o valor do elemento 2,1: 3\n",
            "Digite o valor do elemento 2,2: 4\n",
            "matriz informada:\n",
            " [[1, 2], [3, 4]]\n",
            "a função que determina o cofator é a função: verifica_matriz\n",
            "a função que determina o cofator é a função: co_fator\n",
            "a função que determina o cofator é a função: det_matriz\n",
            "Velor da determinante é: -2\n"
          ],
          "name": "stdout"
        }
      ]
    }
  ]
}