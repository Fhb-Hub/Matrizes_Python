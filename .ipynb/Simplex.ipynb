{
  "nbformat": 4,
  "nbformat_minor": 0,
  "metadata": {
    "colab": {
      "name": "simplex",
      "provenance": [],
      "collapsed_sections": [
        "PgYmIt7H6MWy",
        "mZmbWD5o6qfA",
        "fg1XfLDc7PVt"
      ]
    },
    "kernelspec": {
      "name": "python3",
      "display_name": "Python 3"
    },
    "language_info": {
      "name": "python"
    }
  },
  "cells": [
    {
      "cell_type": "code",
      "metadata": {
        "id": "IG_7uf57-h89"
      },
      "source": [
        "import math\n",
        "from fractions import Fraction"
      ],
      "execution_count": 1,
      "outputs": []
    },
    {
      "cell_type": "markdown",
      "metadata": {
        "id": "PgYmIt7H6MWy"
      },
      "source": [
        "# Codigo de base"
      ]
    },
    {
      "cell_type": "code",
      "metadata": {
        "id": "UpQm11HhAIrt"
      },
      "source": [
        "def somar(m1, m2):\n",
        "    matriz_soma = []\n",
        "    # Supondo que as duas matrizes possuem o mesmo tamanho\n",
        "    quant_linhas = len(m1) # Conta quantas linhas existem\n",
        "    quant_colunas = len(m1[0]) # Conta quantos elementos têm em uma linha\n",
        "    for i in range(quant_linhas):\n",
        "        # Cria uma nova linha na matriz_soma\n",
        "        matriz_soma.append([])\n",
        "        for j in range(quant_colunas):\n",
        "            # Somando os elementos que possuem o mesmo índice\n",
        "            soma = m1[i][j] + m2[i][j]\n",
        "            matriz_soma[i].append(soma)\n",
        "    return matriz_soma"
      ],
      "execution_count": 2,
      "outputs": []
    },
    {
      "cell_type": "code",
      "metadata": {
        "id": "RgfjceKZ_8t1"
      },
      "source": [
        "def cria_matriz_cofator(matriz, linha, col):\n",
        "    tam = len(matriz) # lendo as quantidades de linha na matriz \n",
        "    tam_nova = tam -1 \n",
        "    matriz_nova = []\n",
        "    l_nova = 0\n",
        "    for l in range(tam): \n",
        "        if l != linha: # não consedera a linha aonde está o pivo\n",
        "            matriz_nova.append([0]*tam_nova)\n",
        "            c_nova = 0\n",
        "            for c in range(tam):\n",
        "                if c != col: # não considera a coluna aonde está o pivo\n",
        "                    matriz_nova[l_nova][c_nova] = matriz[l][c] \n",
        "                    c_nova += 1\n",
        "            l_nova += 1\n",
        "\n",
        "    return matriz_nova"
      ],
      "execution_count": 3,
      "outputs": []
    },
    {
      "cell_type": "code",
      "metadata": {
        "id": "9i7X81qm_oMo"
      },
      "source": [
        "def co_fator(matriz,linha,col):\n",
        "    cofator = 0\n",
        "    mult = (-1)**(linha+col) # potencia do co-fator\n",
        "    cofator = mult * det_matriz(cria_matriz_cofator(matriz, linha, col)) # calculo recursivo do co-fator\n",
        "    return cofator"
      ],
      "execution_count": 4,
      "outputs": []
    },
    {
      "cell_type": "code",
      "metadata": {
        "id": "-KpUIXGB_kv5"
      },
      "source": [
        "def det_matriz(matriz):\n",
        "    tam = len(matriz)\n",
        "\n",
        "    # condição de parada da recursão\n",
        "    if tam == 1:\n",
        "        return matriz[0][0]\n",
        "    \n",
        "    #inicio do calculo\n",
        "    col = 0 # fixando coluna em 0\n",
        "    soma = 0 \n",
        "    for linha in range(tam): \n",
        "       item = matriz[linha][col] # pegando os elementos da coluna 0\n",
        "       if item != 0:  #se o item igual a zero não realiza o calculo\n",
        "           soma += item * co_fator(matriz,linha,col) # calculo recursivo do co-fator\n",
        "\n",
        "    return soma"
      ],
      "execution_count": 5,
      "outputs": []
    },
    {
      "cell_type": "code",
      "metadata": {
        "id": "ie_kPKg6_blF"
      },
      "source": [
        "def gera_m_cofator(matriz):\n",
        "    matriz_cof = [] # nova matriz com calculo do cofator\n",
        "    tam = len(matriz)\n",
        "    for l in range(tam):\n",
        "        a = []  \n",
        "        matriz_cof.append(a)\n",
        "        for c in range(tam):\n",
        "            cofator = co_fator(matriz,l,c)\n",
        "            a.append(cofator)\n",
        "    return matriz_cof  "
      ],
      "execution_count": 6,
      "outputs": []
    },
    {
      "cell_type": "code",
      "metadata": {
        "id": "fZuxSXNt_Zzw"
      },
      "source": [
        "def gera_m_adjunta(matriz):\n",
        "    matriz_cof = gera_m_cofator(matriz)\n",
        "    result = transposta(matriz_cof) \n",
        "    return result"
      ],
      "execution_count": 7,
      "outputs": []
    },
    {
      "cell_type": "code",
      "metadata": {
        "id": "xXxPWJrS3a52"
      },
      "source": [
        "def matriz_mult(a, b):\n",
        "    linhaA, colunaA = len(a), len(a[0])\n",
        "    linhaB, colunaB = len(b), len(b[0])\n",
        "    if colunaA != linhaB:\n",
        "        print(f\"Não é possível calcular a multiplicação. Matriz A tem {colunaA} colunas, matriz B tem {linhaB} linhas\")\n",
        "        return []\n",
        "\n",
        "    r = []\n",
        "    for i in range(linhaA):\n",
        "        r.append([0] * colunaB)  # Adiciona uma linha nova e gera todas as colunas dessa linha\n",
        "        for j in range(colunaB):\n",
        "            for k in range(colunaA):  # pode usar também linhaB, já que nesse ponto elas são iguais\n",
        "                r[i][j] += a[i][k] * b[k][j]\n",
        "    return r"
      ],
      "execution_count": 8,
      "outputs": []
    },
    {
      "cell_type": "code",
      "metadata": {
        "id": "oht7d3kk5xYi"
      },
      "source": [
        "def matriz_inversa(matriz):\n",
        "    m_det = det_matriz(matriz)\n",
        "    if m_det == 0:\n",
        "        return []\n",
        "    \n",
        "    a = 1/m_det\n",
        "    m_adjunta = gera_m_adjunta(matriz)\n",
        "    result = mult_escalar(m_adjunta,a)\n",
        "    return result"
      ],
      "execution_count": 9,
      "outputs": []
    },
    {
      "cell_type": "code",
      "metadata": {
        "id": "gDDOYjR151qS"
      },
      "source": [
        "def mult_escalar(matriz,escalar):\n",
        "    matriz_mult = []\n",
        "    quant_linhas = len(matriz) # Conta quantas linhas existem\n",
        "    quant_colunas = len(matriz[0]) # Conta quantos elementos têm em uma linha\n",
        "    for i in range(quant_linhas):\n",
        "        # Cria uma nova linha na matriz_mult\n",
        "        matriz_mult.append([])\n",
        "        for j in range(quant_colunas):\n",
        "            # Multiplicando cada elemento pelo escalar\n",
        "            mult = escalar * matriz[i][j]\n",
        "            matriz_mult[i].append(mult)\n",
        "    return matriz_mult"
      ],
      "execution_count": 10,
      "outputs": []
    },
    {
      "cell_type": "code",
      "metadata": {
        "id": "nci7kjWM56Lk"
      },
      "source": [
        "def transposta(M):\n",
        "    nlinhas = len(M)  # Conta quantas linhas existem\n",
        "    ncolunas = len(M[0])  # Conta quantos elementos têm em uma linha\n",
        "    T = matriz_nula(ncolunas, nlinhas)\n",
        "    for i in range(nlinhas):\n",
        "        for j in range(ncolunas):\n",
        "            T[j][i] = M[i][j]\n",
        "    return T"
      ],
      "execution_count": 11,
      "outputs": []
    },
    {
      "cell_type": "code",
      "metadata": {
        "id": "ECAS41_x6B5Z"
      },
      "source": [
        "def subtrair(a,b): \n",
        "    return somar(a,mult_escalar(b,-1))"
      ],
      "execution_count": 12,
      "outputs": []
    },
    {
      "cell_type": "code",
      "metadata": {
        "id": "b4Eo04HH6E4g"
      },
      "source": [
        "def gerar_identidade (tam):\n",
        "    result=[]\n",
        "    for lin in range (tam):\n",
        "        linha = []\n",
        "        result.append(linha)\n",
        "        for col in range (tam):\n",
        "            if lin == col:\n",
        "                linha.append (1)\n",
        "            else:\n",
        "                linha.append(0)\n",
        "\n",
        "    return result"
      ],
      "execution_count": 13,
      "outputs": []
    },
    {
      "cell_type": "code",
      "metadata": {
        "id": "JypjRmoq-swX"
      },
      "source": [
        "def matriz_nula(nlinhas, ncols):\n",
        "    M = []\n",
        "    for i in range(nlinhas):\n",
        "        linha = [0]*ncols\n",
        "        M.append(linha)\n",
        "    return M"
      ],
      "execution_count": 14,
      "outputs": []
    },
    {
      "cell_type": "markdown",
      "metadata": {
        "id": "mZmbWD5o6qfA"
      },
      "source": [
        "# Código para input de valores"
      ]
    },
    {
      "cell_type": "code",
      "metadata": {
        "id": "q8AsQN1q6xfu"
      },
      "source": [
        "def informar_matriz_restricoes(x):\n",
        "    n = int(input(\"Quantas restrições:\"))\n",
        "    matriz = []\n",
        "    for i in range(x):  # varrendo os itens da linha\n",
        "        matriz.append([0] * n)  # cria a linha corrente mais as colunas\n",
        "        print(f\"Informe os coeficientes para a restrição {i+1}\")\n",
        "        for j in range(n):  # varrendo as colunas\n",
        "            matriz[i][j] = Fraction(input(f\"x{j + 1}: \"))  # pedindo as valores da matriz e atribuindo na posição correta\n",
        "    return matriz, n"
      ],
      "execution_count": 15,
      "outputs": []
    },
    {
      "cell_type": "code",
      "metadata": {
        "id": "YRNybZ_861Zi"
      },
      "source": [
        "def informar_funcao_objetivo(m):\n",
        "    print(\"Informe os coeficieentes da função objetivo: \")\n",
        "    linha = []\n",
        "    for i in range(m):  # varrendo os itens da linha\n",
        "        valor = Fraction(input(f\"x{i + 1}: \"))  # pedindo as valores da matriz e atribuindo na posição correta\n",
        "        linha.append(valor)\n",
        "    matriz = []\n",
        "    matriz.append(linha)\n",
        "    return matriz"
      ],
      "execution_count": 16,
      "outputs": []
    },
    {
      "cell_type": "code",
      "metadata": {
        "id": "P-eyAsyn63lY"
      },
      "source": [
        "def informar_termos_independentes(n):\n",
        "    print(\"Informe os termos independentes: \")\n",
        "    linha = []\n",
        "    for i in range(n):  # varrendo os itens da linha\n",
        "        valor = Fraction(input())  # pedindo as valores da matriz e atribuindo na posição correta\n",
        "        linha.append(valor)\n",
        "    matriz = []\n",
        "    matriz.append(linha)\n",
        "    return matriz"
      ],
      "execution_count": 17,
      "outputs": []
    },
    {
      "cell_type": "code",
      "metadata": {
        "id": "-yJV7gm565pn"
      },
      "source": [
        "def informar_funcao_max():\n",
        "    print(\"A função objetivo é máximo ou de mínimo?\")\n",
        "    while (True):\n",
        "        resposta = str(input(\"Digite max - máximo ou min para mínimo: \")).lower()\n",
        "        if resposta == \"max\":\n",
        "            return MAX\n",
        "        elif resposta == \"min\":\n",
        "            return MIN\n",
        "\n",
        "    return matriz"
      ],
      "execution_count": 18,
      "outputs": []
    },
    {
      "cell_type": "code",
      "metadata": {
        "id": "e7XvPUr168EY"
      },
      "source": [
        "def informar_completo():\n",
        "    return bool(input(\"Programa deve imprimir todos os passos? Informa qualquer valor para Sim e vazio para Não.\"))"
      ],
      "execution_count": 19,
      "outputs": []
    },
    {
      "cell_type": "markdown",
      "metadata": {
        "id": "fg1XfLDc7PVt"
      },
      "source": [
        "# Código para output do valores"
      ]
    },
    {
      "cell_type": "code",
      "metadata": {
        "id": "v4lJi6Gh7T-U"
      },
      "source": [
        "def print_variaveis_na_base(Xb, Rb):\n",
        "    print(f\"Variaveis da base:\")\n",
        "    for l in range(len(Rb)):\n",
        "        for c in range(len(Rb[l])):\n",
        "            print(f\"{Xb[l][c]} = {Rb[l][c]}\")"
      ],
      "execution_count": 20,
      "outputs": []
    },
    {
      "cell_type": "code",
      "metadata": {
        "id": "9T3tY2XK7Vyv"
      },
      "source": [
        "def print_solucao_otima(Z, tipo):\n",
        "    tipo_s = \"MAX\" if tipo == MAX else \"MIN\"\n",
        "    print(f\"Solucao otima de {tipo_s} Z: {Z[0][0]}\")"
      ],
      "execution_count": 21,
      "outputs": []
    },
    {
      "cell_type": "code",
      "metadata": {
        "id": "TxEIhdb77XfG"
      },
      "source": [
        "def print_variaveis_fora_base(X):\n",
        "    print(f\"Variaveis fora da base:\")\n",
        "    for l in range(len(X)):\n",
        "        for c in range(len(X[l])):\n",
        "            print(f\"{X[l][c]} = 0\")"
      ],
      "execution_count": 22,
      "outputs": []
    },
    {
      "cell_type": "code",
      "metadata": {
        "id": "IfYs6mnd7aUY"
      },
      "source": [
        "def print_matriz(mensagem, matriz):\n",
        "    print(mensagem, end=\" \")\n",
        "    print(matriz)"
      ],
      "execution_count": 23,
      "outputs": []
    },
    {
      "cell_type": "code",
      "metadata": {
        "id": "IUrsf1Qt7dWy"
      },
      "source": [
        "def converter_para_decimal(matriz):\n",
        "    result = []\n",
        "    for l in range(len(matriz)):\n",
        "        linha = []\n",
        "        result.append(linha)\n",
        "        for c in range(len(matriz[l])):\n",
        "            linha.append(float(matriz[l][c]))\n",
        "\n",
        "    return result"
      ],
      "execution_count": 24,
      "outputs": []
    },
    {
      "cell_type": "code",
      "metadata": {
        "id": "5q-qIrJK7gyB"
      },
      "source": [
        "def print_modo_completo(iteracao, B, Bi, C1, Cb, Xb, completo):\n",
        "    if completo:\n",
        "        if iteracao == 0:\n",
        "            print(\"Valor inicial das variáveis:\")\n",
        "        else:\n",
        "            print(f\"Valor das variáveis na iteração {iteracao}:\")\n",
        "\n",
        "        print_matriz(\"Variáveis na base: \", Xb)\n",
        "        print_matriz(\"Matriz dos coeficientes das Variáveis: \", converter_para_decimal(B))\n",
        "        print_matriz(\"B inversa: \", converter_para_decimal(Bi))\n",
        "        print_matriz(\"Cb: \", converter_para_decimal(Cb))\n",
        "        print_matriz(\"[Cb * Bi * A - C]:\", converter_para_decimal(C1))\n",
        "        print()"
      ],
      "execution_count": 25,
      "outputs": []
    },
    {
      "cell_type": "code",
      "metadata": {
        "id": "VQdZLOxe8IRM"
      },
      "source": [
        "def print_resultados(Z, Xb, Rb, X, tipo):\n",
        "    print_solucao_otima(Z, tipo)\n",
        "    print_variaveis_na_base(Xb, Rb)\n",
        "    print_variaveis_fora_base(X)\n",
        "    print()"
      ],
      "execution_count": 26,
      "outputs": []
    },
    {
      "cell_type": "markdown",
      "metadata": {
        "id": "kaKTtqE199pd"
      },
      "source": [
        "# Exemplos"
      ]
    },
    {
      "cell_type": "code",
      "metadata": {
        "id": "2INnoSEb-ATa"
      },
      "source": [
        "def exemplo_manual():\n",
        "    m = int(input(\"Quantas variaveis de decisão tem o problema:\"))\n",
        "    C = informar_funcao_objetivo(m)  #\n",
        "    A, n = informar_matriz_restricoes(m)\n",
        "    b = informar_termos_independentes(n)\n",
        "    tipo = informar_funcao_max()\n",
        "    print_completo = informar_completo()\n",
        "    return m, C, A, n, b, tipo, print_completo"
      ],
      "execution_count": 27,
      "outputs": []
    },
    {
      "cell_type": "code",
      "metadata": {
        "id": "tw_nSFow-Qqq"
      },
      "source": [
        "def exemplo_aula():\n",
        "    C = [[Fraction(1), Fraction(4), Fraction(2)]]\n",
        "    m = len(C[0])\n",
        "    A = [[Fraction(2), Fraction(2), Fraction(0)],\n",
        "         [Fraction(1), Fraction(0), Fraction(3)],\n",
        "         [Fraction(1), Fraction(1), Fraction(2)]]\n",
        "    n = len(A)\n",
        "    b = [[Fraction(20), Fraction(15), Fraction(40)]]\n",
        "    return m, C, A, n, b, MAX, True"
      ],
      "execution_count": 28,
      "outputs": []
    },
    {
      "cell_type": "code",
      "metadata": {
        "id": "jGf72LO--Q88"
      },
      "source": [
        "def exemplo_maximo_2_variaveis():\n",
        "    C = [[Fraction(4), Fraction(1)]]\n",
        "    m = len(C[0])\n",
        "    A = [[Fraction(9), Fraction(1)], \n",
        "         [Fraction(3), Fraction(1)]]\n",
        "    n = len(A)\n",
        "    b = [[Fraction(18), Fraction(12)]]\n",
        "    return m, C, A, n, b, MAX, True"
      ],
      "execution_count": 29,
      "outputs": []
    },
    {
      "cell_type": "code",
      "metadata": {
        "id": "oUnnrZp1-XA0"
      },
      "source": [
        "def exemplo_minimo():\n",
        "    C = [[Fraction(2), Fraction(4), Fraction(-5)]]\n",
        "    m = len(C[0])\n",
        "    A = [[Fraction(1), Fraction(2), Fraction(10)],\n",
        "         [Fraction(-1), Fraction(1), Fraction(-1)],\n",
        "         [Fraction(2), Fraction(-1), Fraction(1)]]\n",
        "    n = len(A)\n",
        "    b = [[Fraction(600), Fraction(50), Fraction(100)]]\n",
        "    return m, C, A, n, b, MIN, True"
      ],
      "execution_count": 30,
      "outputs": []
    },
    {
      "cell_type": "code",
      "metadata": {
        "id": "HqneOoIH-RK-"
      },
      "source": [
        ""
      ],
      "execution_count": 30,
      "outputs": []
    },
    {
      "cell_type": "markdown",
      "metadata": {
        "id": "ai9Tfg3B9a1o"
      },
      "source": [
        "# Simplex"
      ]
    },
    {
      "cell_type": "code",
      "metadata": {
        "id": "X2zXjDQn9p-_"
      },
      "source": [
        "MAX = 1\n",
        "MIN = 2"
      ],
      "execution_count": 31,
      "outputs": []
    },
    {
      "cell_type": "code",
      "metadata": {
        "id": "PtLvbfPx8Jig"
      },
      "source": [
        "def verificar_valores_negativos(matriz):\n",
        "    for l in matriz:\n",
        "        for item in l:\n",
        "            if item < 0:\n",
        "                return True\n",
        "    return False"
      ],
      "execution_count": 32,
      "outputs": []
    },
    {
      "cell_type": "code",
      "metadata": {
        "id": "leUov41G9hu4"
      },
      "source": [
        "def converter_para_decimal(matriz):\n",
        "    result = []\n",
        "    for l in range(len(matriz)):\n",
        "        linha = []\n",
        "        result.append(linha)\n",
        "        for c in range(len(matriz[l])):\n",
        "            linha.append(float(matriz[l][c]))\n",
        "\n",
        "    return result"
      ],
      "execution_count": 33,
      "outputs": []
    },
    {
      "cell_type": "code",
      "metadata": {
        "id": "gWuC2J999j1D"
      },
      "source": [
        "def inicializacao_simplex(C, b, m, n):\n",
        "    b = transposta(b)\n",
        "    X = transposta([[f'X{i}' for i in range(1, m + 1)]])\n",
        "    Xb = transposta([[f'S{i}' for i in range(1, n + 1)]])\n",
        "    B = gerar_identidade(n)\n",
        "    Cb = [[0] * n]\n",
        "    # Definir variaveis de base\n",
        "    # Definir quem entra na base\n",
        "    C1 = mult_escalar(C, -1)\n",
        "    return B, C1, Cb, X, Xb, b"
      ],
      "execution_count": 34,
      "outputs": []
    },
    {
      "cell_type": "code",
      "metadata": {
        "id": "V_Qvucsa9mPJ"
      },
      "source": [
        "def simplex(m, C, A, n, b, tipo, completo=False):\n",
        "    if tipo == MIN:\n",
        "        C = mult_escalar(C, -1)\n",
        "\n",
        "    B, C1, Cb, X, Xb, b = inicializacao_simplex(C, b, m, n)\n",
        "\n",
        "    iteracao = 0\n",
        "    print_modo_completo(iteracao, B, [[]], C1, Cb, Xb, completo)\n",
        "    Z = [[0]]\n",
        "    while verificar_valores_negativos(C1):\n",
        "        l, entra = def_entra_base(C1)\n",
        "        entra_na_base = transposta(X)[l][entra]\n",
        "        # Definir quem sai da base\n",
        "        sai, val = def_sai_base(A, b, entra)\n",
        "        X[entra][0] = Xb[sai][0]\n",
        "        Xb[sai][0] = entra_na_base\n",
        "        B = trocar_coluna(\n",
        "            # Bug\n",
        "            B,\n",
        "            sai,\n",
        "            A,\n",
        "            entra\n",
        "        )\n",
        "        Bi = matriz_inversa(B)\n",
        "        Cb[0][sai] = C[0][entra]\n",
        "\n",
        "        matriz_opera = matriz_mult(Cb, Bi)\n",
        "        matriz_opera = matriz_mult(matriz_opera, A)\n",
        "        matriz_opera = subtrair(matriz_opera, C)\n",
        "        C1 = matriz_opera\n",
        "\n",
        "        Rb = matriz_mult(Bi, b)\n",
        "        Z = matriz_mult(Cb, Bi)\n",
        "        Z = matriz_mult(Z, b)\n",
        "\n",
        "        if tipo == MIN:\n",
        "            Z = mult_escalar(Z, -1)\n",
        "\n",
        "        iteracao += 1\n",
        "        print_modo_completo(iteracao, B, Bi, C1, Cb, Xb, completo)\n",
        "\n",
        "    if iteracao:\n",
        "        print_resultados(Z, Xb, Rb, X, tipo)\n",
        "    else:\n",
        "        print(\"Não foi possível aplicar a otimização\")"
      ],
      "execution_count": 35,
      "outputs": []
    },
    {
      "cell_type": "code",
      "metadata": {
        "id": "XcSGQrt2_G2P"
      },
      "source": [
        "def def_entra_base(coeficientes_objetivo):\n",
        "    lin = 0\n",
        "    col = 0\n",
        "    menor_elemento = coeficientes_objetivo[lin][col]\n",
        "    tam_linha = len(coeficientes_objetivo)\n",
        "    for l in range(tam_linha):\n",
        "        tam_coluna = len(coeficientes_objetivo[l])\n",
        "        for c in range(tam_coluna):\n",
        "            atual = coeficientes_objetivo[l][c]\n",
        "            if atual < menor_elemento:\n",
        "                lin = l\n",
        "                col = c\n",
        "                menor_elemento = atual\n",
        "\n",
        "    return lin, col"
      ],
      "execution_count": 36,
      "outputs": []
    },
    {
      "cell_type": "code",
      "metadata": {
        "id": "qCD4QrYD_IYW"
      },
      "source": [
        "def def_sai_base(coeficiente_resticoes, termos_independentes, col_pivo):\n",
        "    tam_linha = len(coeficiente_resticoes)\n",
        "    valores = [0] * tam_linha\n",
        "    for l in range(tam_linha):\n",
        "        pivo = coeficiente_resticoes[l][col_pivo]\n",
        "        ind = termos_independentes[l][0]\n",
        "        if pivo > 0:\n",
        "            valores[l] = ind / pivo\n",
        "        else:\n",
        "            valores[l] = math.inf\n",
        "\n",
        "    ind = 0\n",
        "    val = valores[ind]\n",
        "    for i, v in enumerate(valores):\n",
        "        if v < val:\n",
        "            ind = i\n",
        "            val = v\n",
        "\n",
        "    return ind, val"
      ],
      "execution_count": 37,
      "outputs": []
    },
    {
      "cell_type": "code",
      "metadata": {
        "id": "LRDFF9B4_Nwq"
      },
      "source": [
        "def trocar_coluna(matriz_origem, coluna_deve_trocar, matriz_destino, coluna_vai_trocar):\n",
        "    result = []\n",
        "    for l in range(len(matriz_origem)):\n",
        "        linha = []\n",
        "        result.append(linha)\n",
        "        for c in range(len(matriz_destino)):\n",
        "            if c == coluna_deve_trocar:\n",
        "                linha.append(matriz_destino[l][coluna_vai_trocar])\n",
        "            else:\n",
        "                linha.append(matriz_origem[l][c])\n",
        "\n",
        "    return result\n"
      ],
      "execution_count": 38,
      "outputs": []
    },
    {
      "cell_type": "markdown",
      "metadata": {
        "id": "CsJlzuabDKVu"
      },
      "source": [
        "# Execuções"
      ]
    },
    {
      "cell_type": "code",
      "metadata": {
        "id": "DBvb9qgB9sgh"
      },
      "source": [
        "#m, C, A, n, b, tipo, completo = exemplo_aula()\n",
        "#print()\n",
        "#simplex(m, C, A, n, b, tipo, completo)"
      ],
      "execution_count": 39,
      "outputs": []
    },
    {
      "cell_type": "code",
      "metadata": {
        "id": "4WKv2zpM92fY"
      },
      "source": [
        "#m, C, A, n, b, tipo, completo = exemplo_maximo_2_variaveis()\n",
        "#print()\n",
        "#simplex(m, C, A, n, b, tipo, completo)"
      ],
      "execution_count": 40,
      "outputs": []
    },
    {
      "cell_type": "code",
      "metadata": {
        "id": "NPUEDpHIAdYf"
      },
      "source": [
        "#m, C, A, n, b, tipo, completo = exemplo_minimo()\n",
        "#print()\n",
        "#simplex(m, C, A, n, b, tipo, completo)"
      ],
      "execution_count": 41,
      "outputs": []
    },
    {
      "cell_type": "code",
      "metadata": {
        "colab": {
          "base_uri": "https://localhost:8080/"
        },
        "id": "2S0Igop-AhQN",
        "outputId": "bc2883ae-22e5-4902-e1f1-d167e8cb4bb5"
      },
      "source": [
        "m, C, A, n, b, tipo, completo = exemplo_manual()\n",
        "print()\n",
        "simplex(m, C, A, n, b, tipo, completo)"
      ],
      "execution_count": 44,
      "outputs": [
        {
          "output_type": "stream",
          "text": [
            "Quantas variaveis de decisão tem o problema:2\n",
            "Informe os coeficieentes da função objetivo: \n",
            "x1: 4\n",
            "x2: 1\n",
            "Quantas restrições:2\n",
            "Informe os coeficientes para a restrição 1\n",
            "x1: 9\n",
            "x2: 1\n",
            "Informe os coeficientes para a restrição 2\n",
            "x1: 3\n",
            "x2: 1\n",
            "Informe os termos independentes: \n",
            "18\n",
            "12\n",
            "A função objetivo é máximo ou de mínimo?\n",
            "Digite max - máximo ou min para mínimo: max\n",
            "Programa deve imprimir todos os passos? Informa qualquer valor para Sim e vazio para Não.\n",
            "\n",
            "Solucao otima de MAX Z: 13\n",
            "Variaveis da base:\n",
            "X1 = 1\n",
            "X2 = 9\n",
            "Variaveis fora da base:\n",
            "S1 = 0\n",
            "S2 = 0\n",
            "\n"
          ],
          "name": "stdout"
        }
      ]
    },
    {
      "cell_type": "code",
      "metadata": {
        "colab": {
          "base_uri": "https://localhost:8080/"
        },
        "id": "v7v0Xm8XL7fM",
        "outputId": "5bb6e249-4e0a-40b2-9f69-45703a93bd19"
      },
      "source": [
        "1"
      ],
      "execution_count": 43,
      "outputs": [
        {
          "output_type": "execute_result",
          "data": {
            "text/plain": [
              "1"
            ]
          },
          "metadata": {
            "tags": []
          },
          "execution_count": 43
        }
      ]
    }
  ]
}