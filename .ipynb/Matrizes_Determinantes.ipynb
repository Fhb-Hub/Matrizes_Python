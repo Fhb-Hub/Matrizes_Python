{
  "nbformat": 4,
  "nbformat_minor": 5,
  "metadata": {
    "kernelspec": {
      "name": "python3",
      "display_name": "Python 3",
      "language": "python"
    },
    "language_info": {
      "name": "python",
      "version": "3.6.13",
      "mimetype": "text/x-python",
      "codemirror_mode": {
        "name": "ipython",
        "version": 3
      },
      "pygments_lexer": "ipython3",
      "nbconvert_exporter": "python",
      "file_extension": ".py"
    },
    "colab": {
      "name": "Cópia de Matrizes_Determinantes.ipynb",
      "provenance": [],
      "collapsed_sections": [],
      "include_colab_link": true
    }
  },
  "cells": [
    {
      "cell_type": "markdown",
      "metadata": {
        "id": "view-in-github",
        "colab_type": "text"
      },
      "source": [
        "<a href=\"https://colab.research.google.com/github/vanessa-held/Python-matrizes/blob/master/Matrizes_Determinantes01.ipynb\" target=\"_parent\"><img src=\"https://colab.research.google.com/assets/colab-badge.svg\" alt=\"Open In Colab\"/></a>"
      ]
    },
    {
      "cell_type": "code",
      "metadata": {
        "trusted": true,
        "id": "e-GDFEO4vhQb"
      },
      "source": [
        "#'soma'\n",
        "def somar(m1, m2):\n",
        "    matriz_soma = []\n",
        "    # Supondo que as duas matrizes possuem o mesmo tamanho\n",
        "    quant_linhas = len(m1) # Conta quantas linhas existem\n",
        "    quant_colunas = len(m1[0]) # Conta quantos elementos têm em uma linha\n",
        "    for i in range(quant_linhas):\n",
        "        # Cria uma nova linha na matriz_soma\n",
        "        matriz_soma.append([])\n",
        "        for j in range(quant_colunas):\n",
        "            # Somando os elementos que possuem o mesmo índice\n",
        "            soma = m1[i][j] + m2[i][j]\n",
        "            matriz_soma[i].append(soma)\n",
        "    return matriz_soma"
      ],
      "id": "e-GDFEO4vhQb",
      "execution_count": null,
      "outputs": []
    },
    {
      "cell_type": "code",
      "metadata": {
        "id": "bW4pYB_Lv3vq"
      },
      "source": [
        "def mult_escalar(matriz,escalar):\n",
        "    matriz_mult = []\n",
        "    quant_linhas = len(matriz) # Conta quantas linhas existem\n",
        "    quant_colunas = len(matriz[0]) # Conta quantos elementos têm em uma linha\n",
        "    for i in range(quant_linhas):\n",
        "        # Cria uma nova linha na matriz_mult\n",
        "        matriz_mult.append([])\n",
        "        for j in range(quant_colunas):\n",
        "            # Multiplicando cada elemento pelo escalar\n",
        "            mult = escalar * matriz[i][j]\n",
        "            matriz_mult[i].append(mult)\n",
        "    return matriz_mult"
      ],
      "id": "bW4pYB_Lv3vq",
      "execution_count": null,
      "outputs": []
    },
    {
      "cell_type": "code",
      "metadata": {
        "id": "Sg-esYt6v1ZR"
      },
      "source": [
        "#multiplicação entre matrizes\n",
        "def matriz_mult(a, b):\n",
        "    linhaA, colunaA = len(a), len(a[0])\n",
        "    linhaB, colunaB = len(b), len(b[0])\n",
        "    if colunaA != linhaB:\n",
        "        print(f\"Não é possível calcular a multiplicação. Matriz A tem {colunaA} colunas, matriz B tem {linhaB} linhas\")\n",
        "        return []\n",
        "\n",
        "    r = []\n",
        "    for i in range(linhaA):\n",
        "        r.append([0] * colunaB)  # Adiciona uma linha nova e gera todas as colunas dessa linha\n",
        "        for j in range(colunaB):\n",
        "            for k in range(colunaA):  # pode usar também linhaB, já que nesse ponto elas são iguais\n",
        "                r[i][j] += a[i][k] * b[k][j]\n",
        "    return r"
      ],
      "id": "Sg-esYt6v1ZR",
      "execution_count": null,
      "outputs": []
    },
    {
      "cell_type": "code",
      "metadata": {
        "id": "A94z-yFlvyug"
      },
      "source": [
        "def matriz_nula(nlinhas, ncols):\n",
        "    M = []\n",
        "    for i in range(nlinhas):\n",
        "        linha = [0]*ncols\n",
        "        M.append(linha)\n",
        "    return M\n",
        "\n",
        "def transposta(M):\n",
        "    nlinhas = len(M)  # Conta quantas linhas existem\n",
        "    ncolunas = len(M[0])  # Conta quantos elementos têm em uma linha\n",
        "    T = matriz_nula(ncolunas, nlinhas)\n",
        "    for i in range(nlinhas):\n",
        "        for j in range(ncolunas):\n",
        "            T[j][i] = M[i][j]\n",
        "    return T"
      ],
      "id": "A94z-yFlvyug",
      "execution_count": null,
      "outputs": []
    },
    {
      "cell_type": "code",
      "metadata": {
        "id": "LbfkcgURogqZ"
      },
      "source": [
        "\n",
        "#matriz inversa\n",
        "    \n",
        "def matriz_inversa2(m):\n",
        "    det = det_matriz(m)\n",
        "    if det == 0:\n",
        "        print (\"Determinte igual a zero\")\n",
        "        return []\n",
        "    a = 1/det\n",
        "    b = mult_escalar (matrix_tamplate(m),a)\n",
        "   \n",
        "    return b\n",
        "\n",
        "def matrix_tamplate(m): #cria o formato da matriz\n",
        "    resultado = [[0, 0],[0, 0]]\n",
        "    resultado [0][0] = m[1][1]\n",
        "    resultado [0][1] = - m[0][1]\n",
        "    resultado [1][0] = - m[1][0]\n",
        "    resultado [1][1] = m[0][0]\n",
        "\n",
        "    return resultado\n"
      ],
      "id": "LbfkcgURogqZ",
      "execution_count": null,
      "outputs": []
    },
    {
      "cell_type": "code",
      "metadata": {
        "id": "l2XQyC1_vxKb"
      },
      "source": [
        "def transposta(M):\n",
        "    nlinhas = len(M)  # Conta quantas linhas existem\n",
        "    ncolunas = len(M[0])  # Conta quantos elementos têm em uma linha\n",
        "    T = matriz_nula(ncolunas, nlinhas)\n",
        "    for i in range(nlinhas):\n",
        "        for j in range(ncolunas):\n",
        "            T[j][i] = M[i][j]\n",
        "    return T"
      ],
      "id": "l2XQyC1_vxKb",
      "execution_count": null,
      "outputs": []
    },
    {
      "cell_type": "code",
      "metadata": {
        "id": "xHBBomamvmvY"
      },
      "source": [
        "#função de subtração entre duas matrizes\n",
        "def subtrair(a,b): \n",
        "    return somar(a,mult_escalar(b,-1))"
      ],
      "id": "xHBBomamvmvY",
      "execution_count": null,
      "outputs": []
    },
    {
      "cell_type": "code",
      "metadata": {
        "id": "IMh5kxNtpI0N"
      },
      "source": [
        "def informar_matriz():\n",
        "    m = int (input (\"Digite a quantidade de itens das linhas:\")) \n",
        "    n = int (input (\"Digite a quantidade de itens das colunas\"))    \n",
        "    matriz=[]\n",
        "    for i in range (m): #varrendo os itens da linha \n",
        "        matriz.append([0]*n) #cria a linha corrente mais as colunas\n",
        "        for j in range (n): #varrendo as colunas\n",
        "            matriz[i][j] = int (input (f\"Digite o valor do elemento {i+1},{j+1}: \")) #pedindo as valores da matriz e atribuindo na posição correta\n",
        "    return matriz "
      ],
      "id": "IMh5kxNtpI0N",
      "execution_count": null,
      "outputs": []
    },
    {
      "cell_type": "code",
      "metadata": {
        "id": "ckiCAKsJpLAx"
      },
      "source": [
        "\"\"\"\n",
        "    matriz: matriz original \n",
        "    linha: linha do pivo \n",
        "    col: coluna do pivo\n",
        "\"\"\"\n",
        "def cria_matriz_cofator(matriz, linha, col):\n",
        "    tam = len(matriz) # lendo as quantidades de linha na matriz \n",
        "    tam_nova = tam -1 \n",
        "    matriz_nova = []\n",
        "    l_nova = 0\n",
        "    for l in range(tam): \n",
        "        if l != linha: # não consedera a linha aonde está o pivo\n",
        "            matriz_nova.append([0]*tam_nova)\n",
        "            c_nova = 0\n",
        "            for c in range(tam):\n",
        "                if c != col: # não considera a coluna aonde está o pivo\n",
        "                    matriz_nova[l_nova][c_nova] = matriz[l][c] \n",
        "                    c_nova += 1\n",
        "            l_nova += 1\n",
        "\n",
        "    return matriz_nova"
      ],
      "id": "ckiCAKsJpLAx",
      "execution_count": null,
      "outputs": []
    },
    {
      "cell_type": "code",
      "metadata": {
        "id": "BRA_-AQhpPGR"
      },
      "source": [
        "\"\"\"\n",
        "    Resolução de determinante por Teorema de Laplace\n",
        "\"\"\"\n",
        "def det_matriz(matriz):\n",
        "    tam = len(matriz)\n",
        "\n",
        "    # condição de parada da recursão\n",
        "    if tam == 1:\n",
        "        return matriz[0][0]\n",
        "    \n",
        "    #inicio do calculo\n",
        "    col = 0 # fixando coluna em 0\n",
        "    soma = 0 \n",
        "    for linha in range(tam): \n",
        "        item = matriz[linha][col] # pegando os elementos da coluna 0\n",
        "        if item != 0:  #se o item igual a zero não realiza o calculo\n",
        "            mult = (-1)**(linha+col) # potencia do co-fator\n",
        "            soma += mult * item * det_matriz(cria_matriz_cofator(matriz, linha, col)) # calculo recursivo do co-fator\n",
        "\n",
        "    return soma"
      ],
      "id": "BRA_-AQhpPGR",
      "execution_count": null,
      "outputs": []
    },
    {
      "cell_type": "code",
      "metadata": {
        "id": "duxcbq1tpYdG"
      },
      "source": [
        "def verifica_matriz(matriz):\n",
        "    tam_linha = len(matriz) \n",
        "    for linha in range (tam_linha):\n",
        "        tam_col = len(matriz[linha])\n",
        "        if tam_linha != tam_col: \n",
        "            return False # se coluna diferente de linhas retorna falso\n",
        "    return True"
      ],
      "id": "duxcbq1tpYdG",
      "execution_count": null,
      "outputs": []
    },
    {
      "cell_type": "code",
      "metadata": {
        "id": "0gbo3LKMpaN8"
      },
      "source": [
        "def imprimir_determinante(matriz):\n",
        "    matriz_quadrada = verifica_matriz(matriz)\n",
        "    if matriz_quadrada == True:\n",
        "        det = det_matriz (matriz)\n",
        "        print(f\"Velor da determinante é: {det}\") \n",
        "    else: \n",
        "        print(\"Matriz não é quadrada!\")"
      ],
      "id": "0gbo3LKMpaN8",
      "execution_count": null,
      "outputs": []
    },
    {
      "cell_type": "code",
      "metadata": {
        "trusted": true,
        "id": "edL0lgtMvhQj",
        "colab": {
          "base_uri": "https://localhost:8080/"
        },
        "outputId": "4aca3d97-9008-46ef-b92e-be51c3728d27"
      },
      "source": [
        "if __name__ == '__main__':\n",
        "    # lista_exercicios_matriz()\n",
        "    #lista_exercicios_determinate()\n",
        "    \n",
        "    \n",
        "     matriz = informar_matriz()\n",
        "     imprimir_determinante(matriz)\n",
        "     print()\n",
        "\n",
        "     Matriz_A = [[1, -1, 0], [2, 3, 4],[0, 1, -2]]\n",
        "     Matriz_B = [[2, 7, 2], [8, -1, -3],[-1, 9, 5]]\n",
        "\n",
        "     det_a = det_matriz(Matriz_A)\n",
        "     trans_a = transposta(Matriz_A)\n",
        "     soma_b_at = somar(Matriz_B,trans_a)\n",
        "     final = mult_escalar(soma_b_at,det_a)\n",
        "     print(f\"Resultado questão 2:\\n {final}\")"
      ],
      "id": "edL0lgtMvhQj",
      "execution_count": null,
      "outputs": [
        {
          "output_type": "stream",
          "text": [
            "Digite a quantidade de itens das linhas:2\n",
            "Digite a quantidade de itens das colunas3\n",
            "Digite o valor do elemento 1,1: 45\n",
            "Digite o valor do elemento 1,2: 56\n",
            "Digite o valor do elemento 1,3: 45\n",
            "Digite o valor do elemento 2,1: 58\n",
            "Digite o valor do elemento 2,2: 20\n",
            "Digite o valor do elemento 2,3: 23\n",
            "Matriz não é quadrada!\n",
            "\n",
            "Resultado questão 2:\n",
            " [[-42, -126, -28], [-98, -28, 28], [14, -182, -42]]\n"
          ],
          "name": "stdout"
        }
      ]
    }
  ]
}