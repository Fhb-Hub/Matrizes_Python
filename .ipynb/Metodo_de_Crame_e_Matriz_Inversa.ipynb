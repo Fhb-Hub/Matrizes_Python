{
  "nbformat": 4,
  "nbformat_minor": 0,
  "metadata": {
    "colab": {
      "name": "Metodo de Crame e Matriz Inversa.ipynb",
      "provenance": [],
      "authorship_tag": "ABX9TyNpaHnaH2fPbVmkfQtTqOxT",
      "include_colab_link": true
    },
    "kernelspec": {
      "name": "python392jvsc74a57bd0f590536598b249c76a56afcc0e4a9525a2a7168e83143d1960f7065c3e4f0ea7",
      "display_name": "Python 3.9.2 64-bit"
    },
    "language_info": {
      "name": "python",
      "version": "3.9.2-final"
    },
    "metadata": {
      "interpreter": {
        "hash": "f590536598b249c76a56afcc0e4a9525a2a7168e83143d1960f7065c3e4f0ea7"
      }
    }
  },
  "cells": [
    {
      "cell_type": "markdown",
      "metadata": {
        "id": "view-in-github",
        "colab_type": "text"
      },
      "source": [
        "<a href=\"https://colab.research.google.com/github/vanessa-held/Python-matrizes/blob/master/Metodo_de_Crame_e_Matriz_Inversa.ipynb\" target=\"_parent\"><img src=\"https://colab.research.google.com/assets/colab-badge.svg\" alt=\"Open In Colab\"/></a>"
      ]
    },
    {
      "cell_type": "code",
      "metadata": {
        "id": "_YU4vc6k2P4l"
      },
      "source": [
        "def somar(m1, m2):\n",
        "    matriz_soma = []\n",
        "    # Supondo que as duas matrizes possuem o mesmo tamanho\n",
        "    quant_linhas = len(m1) # Conta quantas linhas existem\n",
        "    quant_colunas = len(m1[0]) # Conta quantos elementos têm em uma linha\n",
        "    for i in range(quant_linhas):\n",
        "        # Cria uma nova linha na matriz_soma\n",
        "        matriz_soma.append([])\n",
        "        for j in range(quant_colunas):\n",
        "            # Somando os elementos que possuem o mesmo índice\n",
        "            soma = m1[i][j] + m2[i][j]\n",
        "            matriz_soma[i].append(soma)\n",
        "    return matriz_soma\n",
        "    "
      ],
      "execution_count": null,
      "outputs": []
    },
    {
      "cell_type": "code",
      "metadata": {
        "id": "GqSbQ6-Z2Ril"
      },
      "source": [
        "def mult_escalar(matriz,escalar):\n",
        "    matriz_mult = []\n",
        "    quant_linhas = len(matriz) # Conta quantas linhas existem\n",
        "    quant_colunas = len(matriz[0]) # Conta quantos elementos têm em uma linha\n",
        "    for i in range(quant_linhas):\n",
        "        # Cria uma nova linha na matriz_mult\n",
        "        matriz_mult.append([])\n",
        "        for j in range(quant_colunas):\n",
        "            # Multiplicando cada elemento pelo escalar\n",
        "            mult = escalar * matriz[i][j]\n",
        "            matriz_mult[i].append(mult)\n",
        "    return matriz_mult"
      ],
      "execution_count": null,
      "outputs": []
    },
    {
      "cell_type": "code",
      "metadata": {
        "id": "y_IwOA8g2Tqc"
      },
      "source": [
        "def matriz_mult(a, b):\n",
        "    linhaA, colunaA = len(a), len(a[0])\n",
        "    linhaB, colunaB = len(b), len(b[0])\n",
        "    if colunaA != linhaB:\n",
        "        print(f\"Não é possível calcular a multiplicação. Matriz A tem {colunaA} colunas, matriz B tem {linhaB} linhas\")\n",
        "        return []\n",
        "\n",
        "    r = []\n",
        "    for i in range(linhaA):\n",
        "        r.append([0] * colunaB)  # Adiciona uma linha nova e gera todas as colunas dessa linha\n",
        "        for j in range(colunaB):\n",
        "            for k in range(colunaA):  # pode usar também linhaB, já que nesse ponto elas são iguais\n",
        "                r[i][j] += a[i][k] * b[k][j]\n",
        "    return r"
      ],
      "execution_count": null,
      "outputs": []
    },
    {
      "cell_type": "code",
      "metadata": {
        "id": "rywNaF7I2VvQ"
      },
      "source": [
        "def matriz_nula(nlinhas, ncols):\n",
        "    M = []\n",
        "    for i in range(nlinhas):\n",
        "        linha = [0]*ncols\n",
        "        M.append(linha)\n",
        "    return M"
      ],
      "execution_count": null,
      "outputs": []
    },
    {
      "cell_type": "code",
      "metadata": {
        "id": "a6SKyP242XTa"
      },
      "source": [
        "def transposta(M):\n",
        "    nlinhas = len(M)  # Conta quantas linhas existem\n",
        "    ncolunas = len(M[0])  # Conta quantos elementos têm em uma linha\n",
        "    T = matriz_nula(ncolunas, nlinhas)\n",
        "    for i in range(nlinhas):\n",
        "        for j in range(ncolunas):\n",
        "            T[j][i] = M[i][j]\n",
        "    return T"
      ],
      "execution_count": null,
      "outputs": []
    },
    {
      "cell_type": "code",
      "metadata": {
        "id": "K9NHPucs2ZMq"
      },
      "source": [
        "def matriz_inversa(matriz):\n",
        "    m_det = det_matriz(matriz)\n",
        "    if m_det == 0:\n",
        "        return []\n",
        "    \n",
        "    a = 1/m_det\n",
        "    m_adjunta = gera_m_adjunta(matriz)\n",
        "    result = mult_escalar(m_adjunta,a)\n",
        "    return result"
      ],
      "execution_count": null,
      "outputs": []
    },
    {
      "cell_type": "code",
      "metadata": {
        "id": "Ab8rEZHN20a5"
      },
      "source": [
        "def gera_m_adjunta(matriz):\n",
        "    matriz_cof = gera_m_cofator(matriz)\n",
        "    result = transposta(matriz_cof) \n",
        "    return result"
      ],
      "execution_count": null,
      "outputs": []
    },
    {
      "cell_type": "code",
      "metadata": {
        "id": "IWAx4Pvt22Cx"
      },
      "source": [
        "def gera_m_cofator(matriz):\n",
        "    matriz_cof = [] # nova matriz com calculo do cofator\n",
        "    tam = len(matriz)\n",
        "    for l in range(tam):\n",
        "        a = []  \n",
        "        matriz_cof.append(a)\n",
        "        for c in range(tam):\n",
        "            cofator = co_fator(matriz,l,c)\n",
        "            a.append(cofator)\n",
        "    return matriz_cof   "
      ],
      "execution_count": null,
      "outputs": []
    },
    {
      "cell_type": "code",
      "metadata": {
        "id": "2TxOwlPU234J"
      },
      "source": [
        "def subtrair(a,b): \n",
        "    return somar(a,mult_escalar(b,-1))"
      ],
      "execution_count": null,
      "outputs": []
    },
    {
      "cell_type": "code",
      "metadata": {
        "id": "0JMHRZ2V24ZD"
      },
      "source": [
        "def soma_itens(matriz):\n",
        "    soma = 0\n",
        "    for linha in matriz:\n",
        "        for item in linha:\n",
        "            soma += item\n",
        "    return soma"
      ],
      "execution_count": null,
      "outputs": []
    },
    {
      "cell_type": "code",
      "metadata": {
        "id": "oMce2fmH2_vL"
      },
      "source": [
        "def informar_matriz():\n",
        "    m = int (input (\"Digite a quantidade de itens das linhas:\")) \n",
        "    n = int (input (\"Digite a quantidade de itens das colunas\"))    \n",
        "    matriz=[]\n",
        "    for i in range (m): #varrendo os itens da linha \n",
        "        matriz.append([0]*n) #cria a linha corrente mais as colunas\n",
        "        for j in range (n): #varrendo as colunas\n",
        "            matriz[i][j] = int (input (f\"Digite o valor do elemento {i+1},{j+1}: \")) #pedindo as valores da matriz e atribuindo na posição correta\n",
        "    return matriz"
      ],
      "execution_count": null,
      "outputs": []
    },
    {
      "cell_type": "code",
      "metadata": {
        "id": "uYFUDNql3CDs"
      },
      "source": [
        "def cria_matriz_cofator(matriz, linha, col):\n",
        "    tam = len(matriz) # lendo as quantidades de linha na matriz \n",
        "    tam_nova = tam -1 \n",
        "    matriz_nova = []\n",
        "    l_nova = 0\n",
        "    for l in range(tam): \n",
        "        if l != linha: # não consedera a linha aonde está o pivo\n",
        "            matriz_nova.append([0]*tam_nova)\n",
        "            c_nova = 0\n",
        "            for c in range(tam):\n",
        "                if c != col: # não considera a coluna aonde está o pivo\n",
        "                    matriz_nova[l_nova][c_nova] = matriz[l][c] \n",
        "                    c_nova += 1\n",
        "            l_nova += 1\n",
        "\n",
        "    return matriz_nova"
      ],
      "execution_count": null,
      "outputs": []
    },
    {
      "cell_type": "code",
      "metadata": {
        "id": "sptZ9mf_28r_"
      },
      "source": [
        "def ler_matriz(ordem):\n",
        "    matriz = []\n",
        "    for i in range(ordem):\n",
        "        linha_str = input()\n",
        "        linha = []\n",
        "        for i in linha_str.split():\n",
        "            linha.append(float(i))\n",
        "        matriz.append(linha)\n",
        "\n",
        "    return matriz"
      ],
      "execution_count": null,
      "outputs": []
    },
    {
      "cell_type": "code",
      "metadata": {
        "id": "lnJ6HPM32-PI"
      },
      "source": [
        "def matriz_copia(m_origem):\n",
        "    linha = len(m_origem)\n",
        "    m_copia = []\n",
        "    for l in range(linha):\n",
        "        coluna = len(m_origem[l])\n",
        "        m_copia.append([0] * coluna)\n",
        "        for c in range(coluna):\n",
        "            m_copia[l][c] = m_origem[l][c]\n",
        "\n",
        "    return m_copia"
      ],
      "execution_count": null,
      "outputs": []
    },
    {
      "cell_type": "code",
      "metadata": {
        "id": "gIgeCk8I3Ehm"
      },
      "source": [
        "def co_fator(matriz,linha,col):\n",
        "    cofator = 0\n",
        "    mult = (-1)**(linha+col) # potencia do co-fator\n",
        "    cofator = mult * det_matriz(cria_matriz_cofator(matriz, linha, col)) # calculo recursivo do co-fator\n",
        "    return cofator"
      ],
      "execution_count": null,
      "outputs": []
    },
    {
      "cell_type": "code",
      "metadata": {
        "id": "WF3c-maT3GB4"
      },
      "source": [
        "def det_matriz(matriz):\n",
        "    tam = len(matriz)\n",
        "\n",
        "    # condição de parada da recursão\n",
        "    if tam == 1:\n",
        "        return matriz[0][0]\n",
        "    \n",
        "    #inicio do calculo\n",
        "    col = 0 # fixando coluna em 0\n",
        "    soma = 0 \n",
        "    for linha in range(tam): \n",
        "       item = matriz[linha][col] # pegando os elementos da coluna 0\n",
        "       if item != 0:  #se o item igual a zero não realiza o calculo\n",
        "           soma += item * co_fator(matriz,linha,col) # calculo recursivo do co-fator\n",
        "\n",
        "    return soma"
      ],
      "execution_count": null,
      "outputs": []
    },
    {
      "cell_type": "code",
      "metadata": {
        "id": "RT0DPmXi3IFt"
      },
      "source": [
        "def verifica_matriz(matriz):\n",
        "    tam_linha = len(matriz) \n",
        "    for linha in range (tam_linha):\n",
        "        tam_col = len(matriz[linha])\n",
        "        if tam_linha != tam_col: \n",
        "            return False # se coluna diferente de linhas retorna falso\n",
        "    return True"
      ],
      "execution_count": null,
      "outputs": []
    },
    {
      "cell_type": "code",
      "metadata": {
        "id": "qzaG7sCo3J8i"
      },
      "source": [
        "def imprimir_determinante(matriz):\n",
        "    matriz_quadrada = verifica_matriz(matriz)\n",
        "    if matriz_quadrada == True:\n",
        "        det = det_matriz (matriz)\n",
        "        print(f\"Velor da determinante é: {det}\") \n",
        "    else: \n",
        "        print(\"Matriz não é quadrada!\")"
      ],
      "execution_count": null,
      "outputs": []
    },
    {
      "cell_type": "code",
      "metadata": {
        "id": "95H7M7gi3NLp"
      },
      "source": [
        "def cramer():\n",
        "    # Criação das matriz de coeficiente\n",
        "    ordem = int(input(\"Informe a matriz de coeficiente. \\n Informar o tamanho da matriz:\"))\n",
        "    print(\"Digite a matriz (separe os elememtos da linha por espaço):\")\n",
        "    matriz_coeficiente = ler_matriz(ordem)\n",
        "\n",
        "    print(\"Digite os termos independentes separados por espaço: \")\n",
        "    t_independente =  ler_matriz(1)[0]\n",
        "\n",
        "    det_coeficiente = det_matriz(matriz_coeficiente)\n",
        "    soma_t_independente = sum(t_independente)\n",
        "\n",
        "    if det_coeficiente == 0 and soma_t_independente!=0:\n",
        "        print(\"Sistema impossível (SI)\")\n",
        "    elif det_coeficiente ==0 and soma_t_independente==0:\n",
        "        print (\"Sistema possível indeterminado (SPI)\")\n",
        "    else:\n",
        "        print(\"Sistema possível determinado (SPD)\")\n",
        "        matriz_result = [0]*ordem\n",
        "        for coluna in range (ordem):\n",
        "            m_copia = matriz_copia(matriz_coeficiente)\n",
        "            for linha in range (ordem):\n",
        "                m_copia[linha][coluna] = t_independente[linha]\n",
        "            det_cp = det_matriz(m_copia)\n",
        "            matriz_result [coluna] = det_cp / det_coeficiente\n",
        "        print(matriz_result)"
      ],
      "execution_count": null,
      "outputs": []
    },
    {
      "cell_type": "code",
      "metadata": {
        "id": "qVR5Fkb43PUd"
      },
      "source": [
        "def metodo_da_matriz_inversa():\n",
        "    ordem = int(input(\"Informe a matriz de coeficiente. \\n Informar o tamanho da matriz:\"))\n",
        "    print(\"Digite a matriz (separe os elememtos da linha por espaço):\")\n",
        "    matriz_coeficiente = ler_matriz(ordem)\n",
        "\n",
        "    print(\"Digite os termos independentes separados por enter: \")\n",
        "    t_independente =  ler_matriz(ordem)\n",
        "\n",
        "    det_coeficiente = det_matriz(matriz_coeficiente)\n",
        "    soma_t_independente = soma_itens(t_independente)\n",
        "\n",
        "    if det_coeficiente == 0 and soma_t_independente!=0:\n",
        "        print(\"Sistema impossível (SI)\")\n",
        "    elif det_coeficiente ==0 and soma_t_independente==0:\n",
        "        print (\"Sistema possível indeterminado (SPI)\")\n",
        "    else:\n",
        "        print(\"Sistema possível determinado (SPD)\")\n",
        "        resultado = matriz_mult(matriz_inversa(matriz_coeficiente),t_independente)\n",
        "\n",
        "        print(resultado)"
      ],
      "execution_count": null,
      "outputs": []
    },
    {
      "cell_type": "code",
      "metadata": {
        "colab": {
          "base_uri": "https://localhost:8080/"
        },
        "id": "mUR0uGoD3QfR",
        "outputId": "e61a3e6d-4663-4835-dd26-8305473ef0b2"
      },
      "source": [
        "metodo_da_matriz_inversa()"
      ],
      "execution_count": null,
      "outputs": []
    },
    {
      "cell_type": "code",
      "metadata": {
        "colab": {
          "base_uri": "https://localhost:8080/"
        },
        "id": "2XmnI60m3cNY",
        "outputId": "c9982a0c-2e2d-4bca-f3fe-7d663377cc91"
      },
      "source": [
        "cramer()"
      ],
      "execution_count": null,
      "outputs": []
    }
  ]
}